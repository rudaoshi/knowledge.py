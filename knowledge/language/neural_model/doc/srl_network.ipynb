{
 "worksheets": [
  {
   "cells": [
    {
     "cell_type": "markdown",
     "metadata": {},
     "source": [
      "# SRL Netowrk \n",
      "\n",
      "## 学习范式\n",
      "\n",
      "SRL 以 一个 <word, verb> pair 为预测对象，输出其SRL的label。 Label 采用 IOEBS方式建立。\n",
      "\n",
      "## 特征\n",
      "\n",
      "对于在句子中的 <word, verb> pair，有两个层面的信息：\n",
      "\n",
      "* pair信息： word 和 verb 各自的词id，词性，二者之间的距离；\n",
      "* 句子信息：整个句子里其他word的id，词性，以及到该word和 该verb的距离。\n",
      "\n",
      "## 学习模型\n",
      "\n",
      "从特征方面看，两个层面的特征均为ID类特征。将该类特征转化为可统计学习的样本，需通过Lookup table的方式。\n",
      "\n",
      "从问题角度看，<word, verb> 的SRL类型判断，需要句子的全局信息。而全局信息的利用，需要使用卷积神经网络的方式。"
     ]
    },
    {
     "cell_type": "code",
     "metadata": {},
     "outputs": [],
     "input": [
      ""
     ],
     "language": "python"
    }
   ]
  }
 ],
 "cells": [],
 "metadata": {},
 "nbformat": 3,
 "nbformat_minor": 0
}